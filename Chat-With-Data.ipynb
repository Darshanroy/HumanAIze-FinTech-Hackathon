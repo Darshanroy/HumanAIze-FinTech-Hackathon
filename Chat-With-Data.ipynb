{
 "cells": [
  {
   "cell_type": "markdown",
   "metadata": {},
   "source": [
    "## About Project"
   ]
  },
  {
   "cell_type": "markdown",
   "metadata": {},
   "source": [
    "## Taking multiple FAQ questions and Building a chatbot for that with multiple data sources inclduing the homepage also\n",
    "## Takinng out the questions and making it into the CSV formate for laoding\n",
    "## Creating  a well documented files"
   ]
  },
  {
   "cell_type": "code",
   "execution_count": 1,
   "metadata": {},
   "outputs": [],
   "source": [
    "from langchain_community.document_loaders import RecursiveUrlLoader, PyPDFDirectoryLoader\n",
    "from langchain.text_splitter import RecursiveCharacterTextSplitter\n",
    "from langchain_community.vectorstores import FAISS\n",
    "from langchain.chains.combine_documents import create_stuff_documents_chain\n",
    "from langchain.chains.combine_documents import create_stuff_documents_chain\n",
    "from langchain_community.embeddings import HuggingFaceBgeEmbeddings\n",
    "from langchain_community.llms import HuggingFaceHub\n",
    "from langchain_core.prompts import ChatPromptTemplate\n",
    "from langchain.chains import create_retrieval_chain\n",
    "from langchain_huggingface.embeddings import HuggingFaceEndpointEmbeddings\n",
    "from langchain_huggingface import HuggingFaceEndpoint\n",
    "from langchain.chains import HypotheticalDocumentEmbedder\n",
    "from langchain_chroma import Chroma\n",
    "import pandas as pd\n",
    "import os"
   ]
  },
  {
   "cell_type": "code",
   "execution_count": 2,
   "metadata": {},
   "outputs": [],
   "source": [
    "os.environ['HUGGINGFACEHUB_API_TOKEN']= \"\""
   ]
  },
  {
   "cell_type": "code",
   "execution_count": 3,
   "metadata": {},
   "outputs": [
    {
     "name": "stdout",
     "output_type": "stream",
     "text": [
      "The token has not been saved to the git credentials helper. Pass `add_to_git_credential=True` in this function directly or `--add-to-git-credential` if using via `huggingface-cli` if you want to set the git credential as well.\n",
      "Token is valid (permission: read).\n",
      "Your token has been saved to C:\\Users\\91845\\.cache\\huggingface\\token\n",
      "Login successful\n"
     ]
    }
   ],
   "source": [
    "hf_embeddings = HuggingFaceEndpointEmbeddings(\n",
    "    model= \"sentence-transformers/all-MiniLM-L6-v2\",\n",
    "    task=\"feature-extraction\",\n",
    "    huggingfacehub_api_token=\"\",\n",
    ")\n",
    "\n",
    "Llama3LLM = HuggingFaceEndpoint(\n",
    "    repo_id=\"mistralai/Mistral-7B-Instruct-v0.3\",\n",
    "    task=\"text-generation\",\n",
    "    max_new_tokens=1000,\n",
    "    do_sample=False,\n",
    ")\n",
    "Llama3LLMHydeEmbeddings = HypotheticalDocumentEmbedder.from_llm(Llama3LLM,\n",
    "                                                  hf_embeddings,\n",
    "                                                  prompt_key = \"web_search\")"
   ]
  },
  {
   "cell_type": "code",
   "execution_count": 4,
   "metadata": {},
   "outputs": [],
   "source": [
    "loader = PyPDFDirectoryLoader(r\"crime data\\murder\")\n",
    "docs = loader.load()\n",
    "text_splitter = RecursiveCharacterTextSplitter(chunk_size=300, chunk_overlap=20)\n",
    "documents=text_splitter.split_documents(docs)\n",
    "\n"
   ]
  },
  {
   "cell_type": "code",
   "execution_count": 5,
   "metadata": {},
   "outputs": [],
   "source": [
    "## Design ChatPrompt Template\n",
    "prompt = ChatPromptTemplate.from_template(\"\"\"\n",
    "just give main Answer the following question based only on the provided context. \n",
    "Think step by step before providing a detailed answer. \n",
    "I will tip you $1000 if the user finds the answer helpful. \n",
    "<context>\n",
    "{context}\n",
    "</context>\n",
    "Question: {input}\"\"\")\n"
   ]
  },
  {
   "cell_type": "code",
   "execution_count": 6,
   "metadata": {},
   "outputs": [],
   "source": [
    "# Llama3LLMDB=Chroma.from_documents(documents[:10000],Llama3LLMHydeEmbeddings, persist_directory=\"./chroma\")\n",
    "Llama3LLMDB = Chroma(persist_directory=\"./chroma\", embedding_function=Llama3LLMHydeEmbeddings)\n",
    "Llama3LLMRetriever = Llama3LLMDB.as_retriever(type=\"similarity\")"
   ]
  },
  {
   "cell_type": "code",
   "execution_count": 7,
   "metadata": {},
   "outputs": [],
   "source": [
    "DocumentChainMistralLLM = create_stuff_documents_chain(Llama3LLM,prompt)\n",
    "RetrievalChainMistralLLM = create_retrieval_chain(Llama3LLMRetriever,DocumentChainMistralLLM)"
   ]
  },
  {
   "cell_type": "code",
   "execution_count": 8,
   "metadata": {},
   "outputs": [],
   "source": [
    "if __name__ == \"__main__\":\n",
    "    MistralOutput = RetrievalChainMistralLLM.invoke({\"input\":\"List of all the laws that are involed murder cases\"})"
   ]
  },
  {
   "cell_type": "code",
   "execution_count": 10,
   "metadata": {},
   "outputs": [
    {
     "name": "stdout",
     "output_type": "stream",
     "text": [
      " in this context.\n",
      "\n",
      "Answer: The laws involved in this context, based on the provided context, are:\n",
      "\n",
      "1. Law of Murder: This law deals with the offense of murder, which is the unlawful killing of another human being with malice aforethought.\n",
      "\n",
      "2. Right of Private Defence: This law allows a person to use reasonable force to defend himself or his property from an unlawful attack. The force used should not be unduly disproportionate to the injury being averted or reasonably apprehended.\n",
      "\n",
      "3. Provocation: This is a legal doctrine that can reduce a charge of murder to manslaughter, if it can be shown that the accused acted under extreme emotional duress. However, the provided context does not seem to discuss this in detail.\n",
      "\n",
      "4. Law of Injuries: This law deals with the consequences when a person inflicts injuries of a kind that could potentially lead to death. Even if death is not the intended outcome, the person must still face the consequences. However, if it can be reasonably deduced that the injury was accidental or unintentional, the person may escape punishment.\n",
      "\n",
      "5. Law of Evidence: This law is involved in the enquiry process, particularly in proving the intention to cause bodily injury. Once the intention is proved, the rest of the enquiry is objective and focuses on whether the injury was accidental or not.\n",
      "\n",
      "6. Criminal Procedure Laws: These laws govern the process of investigating, charging, and trying a criminal case, such as murder. The context mentions a Criminal Appeal No. 328 of 2012, indicating that the case is being appealed in a higher court, suggesting that these procedures are being followed.\n"
     ]
    }
   ],
   "source": [
    "print(MistralOutput['answer'])"
   ]
  },
  {
   "cell_type": "code",
   "execution_count": null,
   "metadata": {},
   "outputs": [],
   "source": []
  }
 ],
 "metadata": {
  "kernelspec": {
   "display_name": "Python 3",
   "language": "python",
   "name": "python3"
  },
  "language_info": {
   "codemirror_mode": {
    "name": "ipython",
    "version": 3
   },
   "file_extension": ".py",
   "mimetype": "text/x-python",
   "name": "python",
   "nbconvert_exporter": "python",
   "pygments_lexer": "ipython3",
   "version": "3.11.4"
  }
 },
 "nbformat": 4,
 "nbformat_minor": 2
}
