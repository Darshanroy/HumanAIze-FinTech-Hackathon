{
 "cells": [
  {
   "cell_type": "code",
   "execution_count": 11,
   "metadata": {},
   "outputs": [],
   "source": [
    "import docx2txt as docx2txt\n",
    "import fitz\n",
    "import os\n",
    "class TextExtractor:\n",
    "    def __init__(self):\n",
    "        pass\n",
    "    #\n",
    "    def extract_text_from_docx(self, docx_path):\n",
    "        try:\n",
    "            text = docx2txt.process(docx_path)\n",
    "            return text\n",
    "        except Exception as e:\n",
    "            return docx_path\n",
    "\n",
    "\n",
    "    def extract_text_from_pdf(self, pdf_path):\n",
    "        text = \"\"\n",
    "        pdf_document = fitz.open(pdf_path)\n",
    "        for page_num in range(pdf_document.page_count):\n",
    "            page = pdf_document.load_page(page_num)\n",
    "            text += page.get_text()\n",
    "        pdf_document.close()\n",
    "        return text\n",
    "\n",
    "    def rename_doc_to_docx(self, folder_path):\n",
    "        for filename in os.listdir(folder_path):\n",
    "            if filename.endswith(\".doc\"):\n",
    "                new_filename = os.path.splitext(filename)[0] + \".docx\"\n",
    "                os.rename(os.path.join(folder_path, filename), os.path.join(folder_path, new_filename))\n",
    "\n",
    "    def extract_file_names(self, directory_path):\n",
    "        self.rename_doc_to_docx(directory_path)\n",
    "        file_names = []\n",
    "        for root, dirs, files in os.walk(directory_path):\n",
    "            for file in files:\n",
    "                file_names.append(file)\n",
    "        return file_names\n",
    "\n",
    "\n",
    "class ResumeTextExtractor(TextExtractor):\n",
    "    def __init__(self):\n",
    "        super().__init__()\n",
    "\n",
    "    def extract_text_from_resumes(self, folder_path='uploads/'):\n",
    "        file_names = self.extract_file_names(folder_path)\n",
    "        text_dict = {}\n",
    "        corrupted_files = []\n",
    "\n",
    "        try:\n",
    "            for file_name in file_names:\n",
    "                if file_name.endswith('.pdf'):\n",
    "                    text = self.extract_text_from_pdf(folder_path + file_name)\n",
    "                    text_dict[file_name] = text\n",
    "                elif file_name.endswith('.docx'):\n",
    "                    text = self.extract_text_from_docx(folder_path + file_name)\n",
    "                    if text == folder_path + file_name:\n",
    "                        corrupted_files.append(text)\n",
    "                    else:\n",
    "                        text_dict[file_name] = text\n",
    "            return text,text_dict, corrupted_files\n",
    "\n",
    "        except Exception as e:\n",
    "            return None, []\n",
    "\n",
    "ResumeTextExtractor_ = ResumeTextExtractor()\n",
    "text ,text_dict, corrupted_files = ResumeTextExtractor_.extract_text_from_resumes(folder_path=r'crime data/murder/')\n",
    "\n",
    "# preprocessed_text = (text.replace('\\n', '').replace('\\t', ''))"
   ]
  },
  {
   "cell_type": "code",
   "execution_count": 17,
   "metadata": {},
   "outputs": [],
   "source": [
    "pdf_text_list = list(text_dict.values())\n",
    "import pandas as pd\n",
    "df = pd.DataFrame({\"Text\":pdf_text_list})\n",
    "df.to_csv(\"submission.csv\", index=False)"
   ]
  },
  {
   "cell_type": "code",
   "execution_count": 18,
   "metadata": {},
   "outputs": [],
   "source": []
  },
  {
   "cell_type": "code",
   "execution_count": 2,
   "metadata": {},
   "outputs": [],
   "source": []
  },
  {
   "cell_type": "code",
   "execution_count": 25,
   "metadata": {},
   "outputs": [],
   "source": []
  },
  {
   "cell_type": "code",
   "execution_count": 26,
   "metadata": {},
   "outputs": [
    {
     "data": {
      "text/html": [
       "<div>\n",
       "<style scoped>\n",
       "    .dataframe tbody tr th:only-of-type {\n",
       "        vertical-align: middle;\n",
       "    }\n",
       "\n",
       "    .dataframe tbody tr th {\n",
       "        vertical-align: top;\n",
       "    }\n",
       "\n",
       "    .dataframe thead th {\n",
       "        text-align: right;\n",
       "    }\n",
       "</style>\n",
       "<table border=\"1\" class=\"dataframe\">\n",
       "  <thead>\n",
       "    <tr style=\"text-align: right;\">\n",
       "      <th></th>\n",
       "      <th>Text</th>\n",
       "      <th>title</th>\n",
       "    </tr>\n",
       "  </thead>\n",
       "  <tbody>\n",
       "    <tr>\n",
       "      <th>0</th>\n",
       "      <td>* Author\\n[2024] 4 S.C.R. 686 : 2024 INSC 323\\...</td>\n",
       "      <td>murder</td>\n",
       "    </tr>\n",
       "    <tr>\n",
       "      <th>1</th>\n",
       "      <td>* Author\\n[2024] 5 S.C.R. 174 : 2024 INSC 320\\...</td>\n",
       "      <td>murder</td>\n",
       "    </tr>\n",
       "    <tr>\n",
       "      <th>2</th>\n",
       "      <td>* Author\\n[2024] 4 S.C.R. 707 : 2024 INSC 312\\...</td>\n",
       "      <td>murder</td>\n",
       "    </tr>\n",
       "    <tr>\n",
       "      <th>3</th>\n",
       "      <td>* Author\\n[2024] 4 S.C.R. 558 : 2024 INSC 299\\...</td>\n",
       "      <td>murder</td>\n",
       "    </tr>\n",
       "    <tr>\n",
       "      <th>4</th>\n",
       "      <td>* Author\\n[2024] 4 S.C.R. 328 : 2024 INSC 294\\...</td>\n",
       "      <td>murder</td>\n",
       "    </tr>\n",
       "  </tbody>\n",
       "</table>\n",
       "</div>"
      ],
      "text/plain": [
       "                                                Text   title\n",
       "0  * Author\\n[2024] 4 S.C.R. 686 : 2024 INSC 323\\...  murder\n",
       "1  * Author\\n[2024] 5 S.C.R. 174 : 2024 INSC 320\\...  murder\n",
       "2  * Author\\n[2024] 4 S.C.R. 707 : 2024 INSC 312\\...  murder\n",
       "3  * Author\\n[2024] 4 S.C.R. 558 : 2024 INSC 299\\...  murder\n",
       "4  * Author\\n[2024] 4 S.C.R. 328 : 2024 INSC 294\\...  murder"
      ]
     },
     "execution_count": 26,
     "metadata": {},
     "output_type": "execute_result"
    }
   ],
   "source": [
    "df"
   ]
  },
  {
   "cell_type": "code",
   "execution_count": null,
   "metadata": {},
   "outputs": [],
   "source": []
  }
 ],
 "metadata": {
  "kernelspec": {
   "display_name": "Python 3",
   "language": "python",
   "name": "python3"
  },
  "language_info": {
   "codemirror_mode": {
    "name": "ipython",
    "version": 3
   },
   "file_extension": ".py",
   "mimetype": "text/x-python",
   "name": "python",
   "nbconvert_exporter": "python",
   "pygments_lexer": "ipython3",
   "version": "3.11.4"
  }
 },
 "nbformat": 4,
 "nbformat_minor": 2
}
