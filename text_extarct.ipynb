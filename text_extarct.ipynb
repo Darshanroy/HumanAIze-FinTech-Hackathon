!pip install PyPDF2 pandas
!git clone https://github.com/hillhack/dataai.git
import pandas as pd
import re
import os
import PyPDF2

# data ingestion
def extract_text_from_pdf(file_path):
    text = ""
    with open(file_path, 'rb') as file:
        reader = PyPDF2.PdfReader(file)
        for page in reader.pages:
            text += page.extract_text()
    return text

data = []
for folder in ["murder"]:
    for file_name in os.listdir(f"dataai/crime data/{folder}"):
        text = extract_text_from_pdf(f"dataai/crime data/{folder}/{file_name}")
        label = ...  # Determine label (e.g., "conviction," "acquittal")
        data.append({"text": text, "label": label})

df = pd.DataFrame(data)

# Data Cleaning and Preprocessing
def clean_text(text):
    text = re.sub(r'[^\w\s]', '', text)  # Remove punctuation
    text = text.lower()
    return text

df['text'] = df['text'].apply(clean_text)
df.head()

f = df['text'].iloc[1]
lines = f.split('\n')
lines_df = pd.DataFrame({'Line': lines})
lines_df.to_csv("file.csv", index=False)
print(lines_df)

