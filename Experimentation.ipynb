{
 "cells": [
  {
   "cell_type": "code",
   "execution_count": 1,
   "metadata": {},
   "outputs": [
    {
     "name": "stdout",
     "output_type": "stream",
     "text": [
      "CRIME-DATASETS\\corruption\\corruption1.pdf\n",
      "CRIME-DATASETS\\corruption\\corruption2.pdf\n",
      "CRIME-DATASETS\\corruption\\corruption3.pdf\n",
      "CRIME-DATASETS\\corruption\\corruption4.pdf\n",
      "CRIME-DATASETS\\corruption\\corruption5.pdf\n",
      "CRIME-DATASETS\\divorce\\divorce1.pdf\n",
      "CRIME-DATASETS\\divorce\\divorce2.pdf\n",
      "CRIME-DATASETS\\divorce\\divorce3.pdf\n",
      "CRIME-DATASETS\\divorce\\divorce4.pdf\n",
      "CRIME-DATASETS\\divorce\\divorce5.pdf\n",
      "CRIME-DATASETS\\murder\\murder1.pdf\n",
      "CRIME-DATASETS\\murder\\murder2.pdf\n",
      "CRIME-DATASETS\\murder\\murder3.pdf\n",
      "CRIME-DATASETS\\murder\\murder4.pdf\n",
      "CRIME-DATASETS\\murder\\murder5.pdf\n",
      "CRIME-DATASETS\\property\\property1.pdf\n",
      "CRIME-DATASETS\\property\\property2.pdf\n",
      "CRIME-DATASETS\\property\\property3.pdf\n",
      "CRIME-DATASETS\\property\\property4.pdf\n",
      "CRIME-DATASETS\\property\\property5.pdf\n",
      "CRIME-DATASETS\\rape\\rape1.pdf\n",
      "CRIME-DATASETS\\rape\\rape2.pdf\n",
      "CRIME-DATASETS\\rape\\rape3.pdf\n",
      "CRIME-DATASETS\\rape\\rape4.pdf\n",
      "CRIME-DATASETS\\rape\\rape5.pdf\n",
      "CRIME-DATASETS\\Robbery\\robbery1.pdf\n",
      "CRIME-DATASETS\\Robbery\\robbery2.pdf\n",
      "CRIME-DATASETS\\Robbery\\robbery3.pdf\n",
      "CRIME-DATASETS\\Robbery\\robbery4.pdf\n",
      "CRIME-DATASETS\\Robbery\\robbery5.pdf\n",
      "CRIME-DATASETS\\sexual assault\\sexual_assault1.pdf\n",
      "CRIME-DATASETS\\sexual assault\\sexual_assault2.pdf\n",
      "CRIME-DATASETS\\sexual assault\\sexual_assault3.pdf\n",
      "CRIME-DATASETS\\sexual assault\\sexual_assault4.pdf\n",
      "CRIME-DATASETS\\sexual assault\\sexual_assault5.pdf\n"
     ]
    }
   ],
   "source": [
    "import os\n",
    "\n",
    "def get_pdf_paths(directory):\n",
    "    pdf_paths = []\n",
    "    for root, dirs, files in os.walk(directory):\n",
    "        for file in files:\n",
    "            if file.endswith('.pdf'):\n",
    "                pdf_paths.append(os.path.join(root, file))\n",
    "    return pdf_paths\n",
    "\n",
    "# Specify the main folder\n",
    "main_folder = 'CRIME-DATASETS'\n",
    "\n",
    "# Get all PDF paths\n",
    "pdf_paths = get_pdf_paths(main_folder)\n",
    "\n",
    "# Print all PDF paths\n",
    "for path in pdf_paths:\n",
    "    print(path)\n"
   ]
  },
  {
   "cell_type": "markdown",
   "metadata": {},
   "source": [
    "- Adding Multiple cases --- Adding separatly --| Selecting the which case he needs to look at\n",
    "- adding the entiner laws books ---- for the particular cases search based on the context \n",
    "- creating multiple chroma_dbs for particular cases\n",
    "- changing it for particular cases in streamlit application\n"
   ]
  },
  {
   "cell_type": "code",
   "execution_count": null,
   "metadata": {},
   "outputs": [],
   "source": [
    "\n"
   ]
  }
 ],
 "metadata": {
  "kernelspec": {
   "display_name": "Python 3",
   "language": "python",
   "name": "python3"
  },
  "language_info": {
   "codemirror_mode": {
    "name": "ipython",
    "version": 3
   },
   "file_extension": ".py",
   "mimetype": "text/x-python",
   "name": "python",
   "nbconvert_exporter": "python",
   "pygments_lexer": "ipython3",
   "version": "3.11.4"
  }
 },
 "nbformat": 4,
 "nbformat_minor": 2
}
