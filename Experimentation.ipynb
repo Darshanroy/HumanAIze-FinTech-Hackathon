{
 "cells": [
  {
   "cell_type": "code",
   "execution_count": 9,
   "metadata": {},
   "outputs": [
    {
     "name": "stdout",
     "output_type": "stream",
     "text": [
      "CRIME-DATASETS\\corruption\\corruption1.pdf\n",
      "CRIME-DATASETS\\corruption\\corruption2.pdf\n",
      "CRIME-DATASETS\\corruption\\corruption3.pdf\n",
      "CRIME-DATASETS\\corruption\\corruption4.pdf\n",
      "CRIME-DATASETS\\corruption\\corruption5.pdf\n",
      "CRIME-DATASETS\\corruption\\Penal_code.pdf\n",
      "CRIME-DATASETS\\divorce\\divorce1.pdf\n",
      "CRIME-DATASETS\\divorce\\divorce2.pdf\n",
      "CRIME-DATASETS\\divorce\\divorce3.pdf\n",
      "CRIME-DATASETS\\divorce\\divorce4.pdf\n",
      "CRIME-DATASETS\\divorce\\divorce5.pdf\n",
      "CRIME-DATASETS\\divorce\\Penal_code.pdf\n",
      "CRIME-DATASETS\\murder\\murder1.pdf\n",
      "CRIME-DATASETS\\murder\\murder2.pdf\n",
      "CRIME-DATASETS\\murder\\murder3.pdf\n",
      "CRIME-DATASETS\\murder\\murder4.pdf\n",
      "CRIME-DATASETS\\murder\\murder5.pdf\n",
      "CRIME-DATASETS\\murder\\Penal_code.pdf\n",
      "CRIME-DATASETS\\property\\Penal_code.pdf\n",
      "CRIME-DATASETS\\property\\property1.pdf\n",
      "CRIME-DATASETS\\property\\property2.pdf\n",
      "CRIME-DATASETS\\property\\property3.pdf\n",
      "CRIME-DATASETS\\property\\property4.pdf\n",
      "CRIME-DATASETS\\property\\property5.pdf\n",
      "CRIME-DATASETS\\rape\\Penal_code.pdf\n",
      "CRIME-DATASETS\\rape\\rape1.pdf\n",
      "CRIME-DATASETS\\rape\\rape2.pdf\n",
      "CRIME-DATASETS\\rape\\rape3.pdf\n",
      "CRIME-DATASETS\\rape\\rape4.pdf\n",
      "CRIME-DATASETS\\rape\\rape5.pdf\n",
      "CRIME-DATASETS\\Robbery\\Penal_code.pdf\n",
      "CRIME-DATASETS\\Robbery\\robbery1.pdf\n",
      "CRIME-DATASETS\\Robbery\\robbery2.pdf\n",
      "CRIME-DATASETS\\Robbery\\robbery3.pdf\n",
      "CRIME-DATASETS\\Robbery\\robbery4.pdf\n",
      "CRIME-DATASETS\\Robbery\\robbery5.pdf\n",
      "CRIME-DATASETS\\sexual assault\\Penal_code.pdf\n",
      "CRIME-DATASETS\\sexual assault\\sexual_assault1.pdf\n",
      "CRIME-DATASETS\\sexual assault\\sexual_assault2.pdf\n",
      "CRIME-DATASETS\\sexual assault\\sexual_assault3.pdf\n",
      "CRIME-DATASETS\\sexual assault\\sexual_assault4.pdf\n",
      "CRIME-DATASETS\\sexual assault\\sexual_assault5.pdf\n"
     ]
    }
   ],
   "source": [
    "import os\n",
    "\n",
    "def get_pdf_paths(directory):\n",
    "    pdf_paths = []\n",
    "    for root, dirs, files in os.walk(directory):\n",
    "        for file in files:\n",
    "            if file.endswith('.pdf'):\n",
    "                pdf_paths.append(os.path.join(root, file))\n",
    "    return pdf_paths\n",
    "\n",
    "# Specify the main folder\n",
    "main_folder = 'CRIME-DATASETS'\n",
    "\n",
    "# Get all PDF paths\n",
    "pdf_paths = get_pdf_paths(main_folder)\n",
    "\n",
    "# Print all PDF paths\n",
    "for path in pdf_paths:\n",
    "    print(path)\n"
   ]
  },
  {
   "cell_type": "code",
   "execution_count": 5,
   "metadata": {},
   "outputs": [],
   "source": [
    "import docx2txt as docx2txt\n",
    "import fitz\n",
    "import os\n",
    "import sys"
   ]
  },
  {
   "cell_type": "code",
   "execution_count": 6,
   "metadata": {},
   "outputs": [],
   "source": [
    "class TextExtractor:\n",
    "    def __init__(self):\n",
    "        pass\n",
    "    #\n",
    "    def extract_text_from_docx(self, docx_path):\n",
    "        try:\n",
    "            text = docx2txt.process(docx_path)\n",
    "            return text\n",
    "        except Exception as e:\n",
    "            return docx_path\n",
    "\n",
    "\n",
    "    def extract_text_from_pdf(self, pdf_path):\n",
    "        text = \"\"\n",
    "        pdf_document = fitz.open(pdf_path)\n",
    "        for page_num in range(pdf_document.page_count):\n",
    "            page = pdf_document.load_page(page_num)\n",
    "            text += page.get_text()\n",
    "        pdf_document.close()\n",
    "        return text\n",
    "\n",
    "    def rename_doc_to_docx(self, folder_path):\n",
    "        for filename in os.listdir(folder_path):\n",
    "            if filename.endswith(\".doc\"):\n",
    "                new_filename = os.path.splitext(filename)[0] + \".docx\"\n",
    "                os.rename(os.path.join(folder_path, filename), os.path.join(folder_path, new_filename))\n",
    "\n",
    "    def extract_file_names(self, directory_path):\n",
    "        self.rename_doc_to_docx(directory_path)\n",
    "        file_names = []\n",
    "        for root, dirs, files in os.walk(directory_path):\n",
    "            for file in files:\n",
    "                file_names.append(file)\n",
    "        return file_names\n",
    "\n",
    "\n",
    "class ResumeTextExtractor(TextExtractor):\n",
    "    def __init__(self):\n",
    "        super().__init__()\n",
    "\n",
    "    def extract_text_from_resumes(self, folder_path):\n",
    "        file_names = self.extract_file_names(folder_path)\n",
    "        text_dict = {}\n",
    "        corrupted_files = []\n",
    "\n",
    "        try:\n",
    "            for file_name in file_names:\n",
    "                if file_name.endswith('.pdf'):\n",
    "                    text = self.extract_text_from_pdf(folder_path + file_name)\n",
    "                    text_dict[file_name] = text\n",
    "                elif file_name.endswith('.docx'):\n",
    "                    text = self.extract_text_from_docx(folder_path + file_name)\n",
    "                    if text == folder_path + file_name:\n",
    "                        corrupted_files.append(text)\n",
    "                    else:\n",
    "                        text_dict[file_name] = text\n",
    "            return text,text_dict, corrupted_files\n",
    "\n",
    "        except Exception as e:\n",
    "            return None, []\n"
   ]
  },
  {
   "cell_type": "markdown",
   "metadata": {},
   "source": [
    "## Extarcting the conetxt form the pdfs"
   ]
  },
  {
   "cell_type": "code",
   "execution_count": 10,
   "metadata": {},
   "outputs": [],
   "source": [
    "ResumeTextExtractor_ = ResumeTextExtractor()\n",
    "list_of_dir = [\"corruption\", \"divorce\", \"murder\", \"property\", \"rape\", \"Robbery\", \"sexual assault\"]"
   ]
  },
  {
   "cell_type": "code",
   "execution_count": 28,
   "metadata": {},
   "outputs": [],
   "source": [
    "context_text_list = {}\n",
    "\n",
    "for dir in list_of_dir:\n",
    "    text ,text_dict, corrupted_files = ResumeTextExtractor_.extract_text_from_resumes(folder_path=f'CRIME-DATASETS/{dir}/')\n",
    "    for i,text in enumerate(list(text_dict.values())):\n",
    "        context_text_list[f\"{dir}_{i}\"] = text\n"
   ]
  },
  {
   "cell_type": "code",
   "execution_count": 30,
   "metadata": {},
   "outputs": [],
   "source": [
    "import pandas as pd\n",
    "sub = pd.DataFrame({\n",
    "\n",
    "    'context' :  list(context_text_list.values()),\n",
    "    \"case_type\" : list(context_text_list.keys())\n",
    "\n",
    "})\n",
    "\n",
    "sub.to_csv(\"submission.csv\", index=False)"
   ]
  },
  {
   "cell_type": "code",
   "execution_count": 32,
   "metadata": {},
   "outputs": [],
   "source": []
  },
  {
   "cell_type": "code",
   "execution_count": null,
   "metadata": {},
   "outputs": [],
   "source": []
  }
 ],
 "metadata": {
  "kernelspec": {
   "display_name": "Python 3",
   "language": "python",
   "name": "python3"
  },
  "language_info": {
   "codemirror_mode": {
    "name": "ipython",
    "version": 3
   },
   "file_extension": ".py",
   "mimetype": "text/x-python",
   "name": "python",
   "nbconvert_exporter": "python",
   "pygments_lexer": "ipython3",
   "version": "3.11.4"
  }
 },
 "nbformat": 4,
 "nbformat_minor": 2
}
